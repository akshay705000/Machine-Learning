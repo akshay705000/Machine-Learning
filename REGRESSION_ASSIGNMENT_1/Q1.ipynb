{
  "nbformat": 4,
  "nbformat_minor": 0,
  "metadata": {
    "colab": {
      "provenance": []
    },
    "kernelspec": {
      "name": "python3",
      "display_name": "Python 3"
    },
    "language_info": {
      "name": "python"
    }
  },
  "cells": [
    {
      "cell_type": "markdown",
      "source": [
        "# **Part a )**"
      ],
      "metadata": {
        "id": "2WQvSDmcTxdT"
      }
    },
    {
      "cell_type": "code",
      "execution_count": 102,
      "metadata": {
        "id": "d5bcULPlzpGd"
      },
      "outputs": [],
      "source": [
        "#Importing necessary modules to read dataset and plot graphs\n",
        "import pandas as pd\n",
        "import matplotlib.pyplot as plt\n",
        "import seaborn as sns"
      ]
    },
    {
      "cell_type": "code",
      "source": [
        "# Read the data into pandas dataframe\n",
        "mess_data = pd.read_csv(\"mess_data.csv\")\n",
        "\n",
        "# Print the data to look for data preparation\n",
        "mess_data.head()"
      ],
      "metadata": {
        "colab": {
          "base_uri": "https://localhost:8080/",
          "height": 0
        },
        "id": "IybGPZIRUeEH",
        "outputId": "554ec237-d1bb-44bd-a57c-25f8b7d2e02a"
      },
      "execution_count": 103,
      "outputs": [
        {
          "output_type": "execute_result",
          "data": {
            "text/plain": [
              "         Date  Day  Category   Time  Holiday Total Time\n",
              "0  20 09 2023    3         1   9:40        0      18:11\n",
              "1  20 09 2023    3         2  13:51        0      13:59\n",
              "2  20 09 2023    3         3  21:10        0      25:13\n",
              "3  21 09 2023    4         1   9:48        0      17:38\n",
              "4  21 09 2023    4         2  13:22        0      19:36"
            ],
            "text/html": [
              "\n",
              "  <div id=\"df-e4df6398-22dc-4c07-810a-3c62f81148a0\" class=\"colab-df-container\">\n",
              "    <div>\n",
              "<style scoped>\n",
              "    .dataframe tbody tr th:only-of-type {\n",
              "        vertical-align: middle;\n",
              "    }\n",
              "\n",
              "    .dataframe tbody tr th {\n",
              "        vertical-align: top;\n",
              "    }\n",
              "\n",
              "    .dataframe thead th {\n",
              "        text-align: right;\n",
              "    }\n",
              "</style>\n",
              "<table border=\"1\" class=\"dataframe\">\n",
              "  <thead>\n",
              "    <tr style=\"text-align: right;\">\n",
              "      <th></th>\n",
              "      <th>Date</th>\n",
              "      <th>Day</th>\n",
              "      <th>Category</th>\n",
              "      <th>Time</th>\n",
              "      <th>Holiday</th>\n",
              "      <th>Total Time</th>\n",
              "    </tr>\n",
              "  </thead>\n",
              "  <tbody>\n",
              "    <tr>\n",
              "      <th>0</th>\n",
              "      <td>20 09 2023</td>\n",
              "      <td>3</td>\n",
              "      <td>1</td>\n",
              "      <td>9:40</td>\n",
              "      <td>0</td>\n",
              "      <td>18:11</td>\n",
              "    </tr>\n",
              "    <tr>\n",
              "      <th>1</th>\n",
              "      <td>20 09 2023</td>\n",
              "      <td>3</td>\n",
              "      <td>2</td>\n",
              "      <td>13:51</td>\n",
              "      <td>0</td>\n",
              "      <td>13:59</td>\n",
              "    </tr>\n",
              "    <tr>\n",
              "      <th>2</th>\n",
              "      <td>20 09 2023</td>\n",
              "      <td>3</td>\n",
              "      <td>3</td>\n",
              "      <td>21:10</td>\n",
              "      <td>0</td>\n",
              "      <td>25:13</td>\n",
              "    </tr>\n",
              "    <tr>\n",
              "      <th>3</th>\n",
              "      <td>21 09 2023</td>\n",
              "      <td>4</td>\n",
              "      <td>1</td>\n",
              "      <td>9:48</td>\n",
              "      <td>0</td>\n",
              "      <td>17:38</td>\n",
              "    </tr>\n",
              "    <tr>\n",
              "      <th>4</th>\n",
              "      <td>21 09 2023</td>\n",
              "      <td>4</td>\n",
              "      <td>2</td>\n",
              "      <td>13:22</td>\n",
              "      <td>0</td>\n",
              "      <td>19:36</td>\n",
              "    </tr>\n",
              "  </tbody>\n",
              "</table>\n",
              "</div>\n",
              "    <div class=\"colab-df-buttons\">\n",
              "\n",
              "  <div class=\"colab-df-container\">\n",
              "    <button class=\"colab-df-convert\" onclick=\"convertToInteractive('df-e4df6398-22dc-4c07-810a-3c62f81148a0')\"\n",
              "            title=\"Convert this dataframe to an interactive table.\"\n",
              "            style=\"display:none;\">\n",
              "\n",
              "  <svg xmlns=\"http://www.w3.org/2000/svg\" height=\"24px\" viewBox=\"0 -960 960 960\">\n",
              "    <path d=\"M120-120v-720h720v720H120Zm60-500h600v-160H180v160Zm220 220h160v-160H400v160Zm0 220h160v-160H400v160ZM180-400h160v-160H180v160Zm440 0h160v-160H620v160ZM180-180h160v-160H180v160Zm440 0h160v-160H620v160Z\"/>\n",
              "  </svg>\n",
              "    </button>\n",
              "\n",
              "  <style>\n",
              "    .colab-df-container {\n",
              "      display:flex;\n",
              "      gap: 12px;\n",
              "    }\n",
              "\n",
              "    .colab-df-convert {\n",
              "      background-color: #E8F0FE;\n",
              "      border: none;\n",
              "      border-radius: 50%;\n",
              "      cursor: pointer;\n",
              "      display: none;\n",
              "      fill: #1967D2;\n",
              "      height: 32px;\n",
              "      padding: 0 0 0 0;\n",
              "      width: 32px;\n",
              "    }\n",
              "\n",
              "    .colab-df-convert:hover {\n",
              "      background-color: #E2EBFA;\n",
              "      box-shadow: 0px 1px 2px rgba(60, 64, 67, 0.3), 0px 1px 3px 1px rgba(60, 64, 67, 0.15);\n",
              "      fill: #174EA6;\n",
              "    }\n",
              "\n",
              "    .colab-df-buttons div {\n",
              "      margin-bottom: 4px;\n",
              "    }\n",
              "\n",
              "    [theme=dark] .colab-df-convert {\n",
              "      background-color: #3B4455;\n",
              "      fill: #D2E3FC;\n",
              "    }\n",
              "\n",
              "    [theme=dark] .colab-df-convert:hover {\n",
              "      background-color: #434B5C;\n",
              "      box-shadow: 0px 1px 3px 1px rgba(0, 0, 0, 0.15);\n",
              "      filter: drop-shadow(0px 1px 2px rgba(0, 0, 0, 0.3));\n",
              "      fill: #FFFFFF;\n",
              "    }\n",
              "  </style>\n",
              "\n",
              "    <script>\n",
              "      const buttonEl =\n",
              "        document.querySelector('#df-e4df6398-22dc-4c07-810a-3c62f81148a0 button.colab-df-convert');\n",
              "      buttonEl.style.display =\n",
              "        google.colab.kernel.accessAllowed ? 'block' : 'none';\n",
              "\n",
              "      async function convertToInteractive(key) {\n",
              "        const element = document.querySelector('#df-e4df6398-22dc-4c07-810a-3c62f81148a0');\n",
              "        const dataTable =\n",
              "          await google.colab.kernel.invokeFunction('convertToInteractive',\n",
              "                                                    [key], {});\n",
              "        if (!dataTable) return;\n",
              "\n",
              "        const docLinkHtml = 'Like what you see? Visit the ' +\n",
              "          '<a target=\"_blank\" href=https://colab.research.google.com/notebooks/data_table.ipynb>data table notebook</a>'\n",
              "          + ' to learn more about interactive tables.';\n",
              "        element.innerHTML = '';\n",
              "        dataTable['output_type'] = 'display_data';\n",
              "        await google.colab.output.renderOutput(dataTable, element);\n",
              "        const docLink = document.createElement('div');\n",
              "        docLink.innerHTML = docLinkHtml;\n",
              "        element.appendChild(docLink);\n",
              "      }\n",
              "    </script>\n",
              "  </div>\n",
              "\n",
              "\n",
              "<div id=\"df-d1e805b3-8f49-42d8-b330-448f4a87aebb\">\n",
              "  <button class=\"colab-df-quickchart\" onclick=\"quickchart('df-d1e805b3-8f49-42d8-b330-448f4a87aebb')\"\n",
              "            title=\"Suggest charts.\"\n",
              "            style=\"display:none;\">\n",
              "\n",
              "<svg xmlns=\"http://www.w3.org/2000/svg\" height=\"24px\"viewBox=\"0 0 24 24\"\n",
              "     width=\"24px\">\n",
              "    <g>\n",
              "        <path d=\"M19 3H5c-1.1 0-2 .9-2 2v14c0 1.1.9 2 2 2h14c1.1 0 2-.9 2-2V5c0-1.1-.9-2-2-2zM9 17H7v-7h2v7zm4 0h-2V7h2v10zm4 0h-2v-4h2v4z\"/>\n",
              "    </g>\n",
              "</svg>\n",
              "  </button>\n",
              "\n",
              "<style>\n",
              "  .colab-df-quickchart {\n",
              "      --bg-color: #E8F0FE;\n",
              "      --fill-color: #1967D2;\n",
              "      --hover-bg-color: #E2EBFA;\n",
              "      --hover-fill-color: #174EA6;\n",
              "      --disabled-fill-color: #AAA;\n",
              "      --disabled-bg-color: #DDD;\n",
              "  }\n",
              "\n",
              "  [theme=dark] .colab-df-quickchart {\n",
              "      --bg-color: #3B4455;\n",
              "      --fill-color: #D2E3FC;\n",
              "      --hover-bg-color: #434B5C;\n",
              "      --hover-fill-color: #FFFFFF;\n",
              "      --disabled-bg-color: #3B4455;\n",
              "      --disabled-fill-color: #666;\n",
              "  }\n",
              "\n",
              "  .colab-df-quickchart {\n",
              "    background-color: var(--bg-color);\n",
              "    border: none;\n",
              "    border-radius: 50%;\n",
              "    cursor: pointer;\n",
              "    display: none;\n",
              "    fill: var(--fill-color);\n",
              "    height: 32px;\n",
              "    padding: 0;\n",
              "    width: 32px;\n",
              "  }\n",
              "\n",
              "  .colab-df-quickchart:hover {\n",
              "    background-color: var(--hover-bg-color);\n",
              "    box-shadow: 0 1px 2px rgba(60, 64, 67, 0.3), 0 1px 3px 1px rgba(60, 64, 67, 0.15);\n",
              "    fill: var(--button-hover-fill-color);\n",
              "  }\n",
              "\n",
              "  .colab-df-quickchart-complete:disabled,\n",
              "  .colab-df-quickchart-complete:disabled:hover {\n",
              "    background-color: var(--disabled-bg-color);\n",
              "    fill: var(--disabled-fill-color);\n",
              "    box-shadow: none;\n",
              "  }\n",
              "\n",
              "  .colab-df-spinner {\n",
              "    border: 2px solid var(--fill-color);\n",
              "    border-color: transparent;\n",
              "    border-bottom-color: var(--fill-color);\n",
              "    animation:\n",
              "      spin 1s steps(1) infinite;\n",
              "  }\n",
              "\n",
              "  @keyframes spin {\n",
              "    0% {\n",
              "      border-color: transparent;\n",
              "      border-bottom-color: var(--fill-color);\n",
              "      border-left-color: var(--fill-color);\n",
              "    }\n",
              "    20% {\n",
              "      border-color: transparent;\n",
              "      border-left-color: var(--fill-color);\n",
              "      border-top-color: var(--fill-color);\n",
              "    }\n",
              "    30% {\n",
              "      border-color: transparent;\n",
              "      border-left-color: var(--fill-color);\n",
              "      border-top-color: var(--fill-color);\n",
              "      border-right-color: var(--fill-color);\n",
              "    }\n",
              "    40% {\n",
              "      border-color: transparent;\n",
              "      border-right-color: var(--fill-color);\n",
              "      border-top-color: var(--fill-color);\n",
              "    }\n",
              "    60% {\n",
              "      border-color: transparent;\n",
              "      border-right-color: var(--fill-color);\n",
              "    }\n",
              "    80% {\n",
              "      border-color: transparent;\n",
              "      border-right-color: var(--fill-color);\n",
              "      border-bottom-color: var(--fill-color);\n",
              "    }\n",
              "    90% {\n",
              "      border-color: transparent;\n",
              "      border-bottom-color: var(--fill-color);\n",
              "    }\n",
              "  }\n",
              "</style>\n",
              "\n",
              "  <script>\n",
              "    async function quickchart(key) {\n",
              "      const quickchartButtonEl =\n",
              "        document.querySelector('#' + key + ' button');\n",
              "      quickchartButtonEl.disabled = true;  // To prevent multiple clicks.\n",
              "      quickchartButtonEl.classList.add('colab-df-spinner');\n",
              "      try {\n",
              "        const charts = await google.colab.kernel.invokeFunction(\n",
              "            'suggestCharts', [key], {});\n",
              "      } catch (error) {\n",
              "        console.error('Error during call to suggestCharts:', error);\n",
              "      }\n",
              "      quickchartButtonEl.classList.remove('colab-df-spinner');\n",
              "      quickchartButtonEl.classList.add('colab-df-quickchart-complete');\n",
              "    }\n",
              "    (() => {\n",
              "      let quickchartButtonEl =\n",
              "        document.querySelector('#df-d1e805b3-8f49-42d8-b330-448f4a87aebb button');\n",
              "      quickchartButtonEl.style.display =\n",
              "        google.colab.kernel.accessAllowed ? 'block' : 'none';\n",
              "    })();\n",
              "  </script>\n",
              "</div>\n",
              "    </div>\n",
              "  </div>\n"
            ]
          },
          "metadata": {},
          "execution_count": 103
        }
      ]
    },
    {
      "cell_type": "markdown",
      "source": [
        "The collected dataset have time for meal in Date and time format.\n",
        "\n",
        "*   Convert the Total time value into integer values. Integer values can be in minutes or seconds.\n",
        "*   I have converted them to seconds instead of minutes for a better accuracy of the prediction model.\n",
        "*   Days are numbered from as monday = 1 to sunday = 7\n",
        "*   Category represents 1 = Breakfast; 2 = Lunch; and 3 = Dinner\n",
        "*   Holiday column: 0 = No and 1 = Yes\n",
        "\n",
        "\n",
        "\n",
        "\n",
        "\n",
        "\n",
        "\n"
      ],
      "metadata": {
        "id": "a3Hc51MRU_R5"
      }
    },
    {
      "cell_type": "code",
      "source": [
        "# Function definition to convert the time format into seconds\n",
        "def time_to_seconds(time_str):\n",
        "    minutes, seconds = map(int, time_str.split(\":\"))\n",
        "    total_seconds = minutes * 60 + seconds\n",
        "    return total_seconds\n",
        "\n",
        "# Appending a new column to the dataset having time in seconds using above function\n",
        "mess_data['time_in_seconds'] = mess_data['Total Time'].apply(time_to_seconds)"
      ],
      "metadata": {
        "id": "tfXIUvjNz3Qq"
      },
      "execution_count": 104,
      "outputs": []
    },
    {
      "cell_type": "code",
      "source": [
        "# Print the dataset\n",
        "mess_data.head()"
      ],
      "metadata": {
        "colab": {
          "base_uri": "https://localhost:8080/",
          "height": 0
        },
        "id": "HJAcnQslWkKS",
        "outputId": "a4e30a03-5614-4024-cfd6-31d412ad96ec"
      },
      "execution_count": 105,
      "outputs": [
        {
          "output_type": "execute_result",
          "data": {
            "text/plain": [
              "         Date  Day  Category   Time  Holiday Total Time  time_in_seconds\n",
              "0  20 09 2023    3         1   9:40        0      18:11             1091\n",
              "1  20 09 2023    3         2  13:51        0      13:59              839\n",
              "2  20 09 2023    3         3  21:10        0      25:13             1513\n",
              "3  21 09 2023    4         1   9:48        0      17:38             1058\n",
              "4  21 09 2023    4         2  13:22        0      19:36             1176"
            ],
            "text/html": [
              "\n",
              "  <div id=\"df-bf0c9d34-b8c5-40f8-a757-33dde8c97af8\" class=\"colab-df-container\">\n",
              "    <div>\n",
              "<style scoped>\n",
              "    .dataframe tbody tr th:only-of-type {\n",
              "        vertical-align: middle;\n",
              "    }\n",
              "\n",
              "    .dataframe tbody tr th {\n",
              "        vertical-align: top;\n",
              "    }\n",
              "\n",
              "    .dataframe thead th {\n",
              "        text-align: right;\n",
              "    }\n",
              "</style>\n",
              "<table border=\"1\" class=\"dataframe\">\n",
              "  <thead>\n",
              "    <tr style=\"text-align: right;\">\n",
              "      <th></th>\n",
              "      <th>Date</th>\n",
              "      <th>Day</th>\n",
              "      <th>Category</th>\n",
              "      <th>Time</th>\n",
              "      <th>Holiday</th>\n",
              "      <th>Total Time</th>\n",
              "      <th>time_in_seconds</th>\n",
              "    </tr>\n",
              "  </thead>\n",
              "  <tbody>\n",
              "    <tr>\n",
              "      <th>0</th>\n",
              "      <td>20 09 2023</td>\n",
              "      <td>3</td>\n",
              "      <td>1</td>\n",
              "      <td>9:40</td>\n",
              "      <td>0</td>\n",
              "      <td>18:11</td>\n",
              "      <td>1091</td>\n",
              "    </tr>\n",
              "    <tr>\n",
              "      <th>1</th>\n",
              "      <td>20 09 2023</td>\n",
              "      <td>3</td>\n",
              "      <td>2</td>\n",
              "      <td>13:51</td>\n",
              "      <td>0</td>\n",
              "      <td>13:59</td>\n",
              "      <td>839</td>\n",
              "    </tr>\n",
              "    <tr>\n",
              "      <th>2</th>\n",
              "      <td>20 09 2023</td>\n",
              "      <td>3</td>\n",
              "      <td>3</td>\n",
              "      <td>21:10</td>\n",
              "      <td>0</td>\n",
              "      <td>25:13</td>\n",
              "      <td>1513</td>\n",
              "    </tr>\n",
              "    <tr>\n",
              "      <th>3</th>\n",
              "      <td>21 09 2023</td>\n",
              "      <td>4</td>\n",
              "      <td>1</td>\n",
              "      <td>9:48</td>\n",
              "      <td>0</td>\n",
              "      <td>17:38</td>\n",
              "      <td>1058</td>\n",
              "    </tr>\n",
              "    <tr>\n",
              "      <th>4</th>\n",
              "      <td>21 09 2023</td>\n",
              "      <td>4</td>\n",
              "      <td>2</td>\n",
              "      <td>13:22</td>\n",
              "      <td>0</td>\n",
              "      <td>19:36</td>\n",
              "      <td>1176</td>\n",
              "    </tr>\n",
              "  </tbody>\n",
              "</table>\n",
              "</div>\n",
              "    <div class=\"colab-df-buttons\">\n",
              "\n",
              "  <div class=\"colab-df-container\">\n",
              "    <button class=\"colab-df-convert\" onclick=\"convertToInteractive('df-bf0c9d34-b8c5-40f8-a757-33dde8c97af8')\"\n",
              "            title=\"Convert this dataframe to an interactive table.\"\n",
              "            style=\"display:none;\">\n",
              "\n",
              "  <svg xmlns=\"http://www.w3.org/2000/svg\" height=\"24px\" viewBox=\"0 -960 960 960\">\n",
              "    <path d=\"M120-120v-720h720v720H120Zm60-500h600v-160H180v160Zm220 220h160v-160H400v160Zm0 220h160v-160H400v160ZM180-400h160v-160H180v160Zm440 0h160v-160H620v160ZM180-180h160v-160H180v160Zm440 0h160v-160H620v160Z\"/>\n",
              "  </svg>\n",
              "    </button>\n",
              "\n",
              "  <style>\n",
              "    .colab-df-container {\n",
              "      display:flex;\n",
              "      gap: 12px;\n",
              "    }\n",
              "\n",
              "    .colab-df-convert {\n",
              "      background-color: #E8F0FE;\n",
              "      border: none;\n",
              "      border-radius: 50%;\n",
              "      cursor: pointer;\n",
              "      display: none;\n",
              "      fill: #1967D2;\n",
              "      height: 32px;\n",
              "      padding: 0 0 0 0;\n",
              "      width: 32px;\n",
              "    }\n",
              "\n",
              "    .colab-df-convert:hover {\n",
              "      background-color: #E2EBFA;\n",
              "      box-shadow: 0px 1px 2px rgba(60, 64, 67, 0.3), 0px 1px 3px 1px rgba(60, 64, 67, 0.15);\n",
              "      fill: #174EA6;\n",
              "    }\n",
              "\n",
              "    .colab-df-buttons div {\n",
              "      margin-bottom: 4px;\n",
              "    }\n",
              "\n",
              "    [theme=dark] .colab-df-convert {\n",
              "      background-color: #3B4455;\n",
              "      fill: #D2E3FC;\n",
              "    }\n",
              "\n",
              "    [theme=dark] .colab-df-convert:hover {\n",
              "      background-color: #434B5C;\n",
              "      box-shadow: 0px 1px 3px 1px rgba(0, 0, 0, 0.15);\n",
              "      filter: drop-shadow(0px 1px 2px rgba(0, 0, 0, 0.3));\n",
              "      fill: #FFFFFF;\n",
              "    }\n",
              "  </style>\n",
              "\n",
              "    <script>\n",
              "      const buttonEl =\n",
              "        document.querySelector('#df-bf0c9d34-b8c5-40f8-a757-33dde8c97af8 button.colab-df-convert');\n",
              "      buttonEl.style.display =\n",
              "        google.colab.kernel.accessAllowed ? 'block' : 'none';\n",
              "\n",
              "      async function convertToInteractive(key) {\n",
              "        const element = document.querySelector('#df-bf0c9d34-b8c5-40f8-a757-33dde8c97af8');\n",
              "        const dataTable =\n",
              "          await google.colab.kernel.invokeFunction('convertToInteractive',\n",
              "                                                    [key], {});\n",
              "        if (!dataTable) return;\n",
              "\n",
              "        const docLinkHtml = 'Like what you see? Visit the ' +\n",
              "          '<a target=\"_blank\" href=https://colab.research.google.com/notebooks/data_table.ipynb>data table notebook</a>'\n",
              "          + ' to learn more about interactive tables.';\n",
              "        element.innerHTML = '';\n",
              "        dataTable['output_type'] = 'display_data';\n",
              "        await google.colab.output.renderOutput(dataTable, element);\n",
              "        const docLink = document.createElement('div');\n",
              "        docLink.innerHTML = docLinkHtml;\n",
              "        element.appendChild(docLink);\n",
              "      }\n",
              "    </script>\n",
              "  </div>\n",
              "\n",
              "\n",
              "<div id=\"df-424d9f5f-a791-4661-b747-7150dce8dbce\">\n",
              "  <button class=\"colab-df-quickchart\" onclick=\"quickchart('df-424d9f5f-a791-4661-b747-7150dce8dbce')\"\n",
              "            title=\"Suggest charts.\"\n",
              "            style=\"display:none;\">\n",
              "\n",
              "<svg xmlns=\"http://www.w3.org/2000/svg\" height=\"24px\"viewBox=\"0 0 24 24\"\n",
              "     width=\"24px\">\n",
              "    <g>\n",
              "        <path d=\"M19 3H5c-1.1 0-2 .9-2 2v14c0 1.1.9 2 2 2h14c1.1 0 2-.9 2-2V5c0-1.1-.9-2-2-2zM9 17H7v-7h2v7zm4 0h-2V7h2v10zm4 0h-2v-4h2v4z\"/>\n",
              "    </g>\n",
              "</svg>\n",
              "  </button>\n",
              "\n",
              "<style>\n",
              "  .colab-df-quickchart {\n",
              "      --bg-color: #E8F0FE;\n",
              "      --fill-color: #1967D2;\n",
              "      --hover-bg-color: #E2EBFA;\n",
              "      --hover-fill-color: #174EA6;\n",
              "      --disabled-fill-color: #AAA;\n",
              "      --disabled-bg-color: #DDD;\n",
              "  }\n",
              "\n",
              "  [theme=dark] .colab-df-quickchart {\n",
              "      --bg-color: #3B4455;\n",
              "      --fill-color: #D2E3FC;\n",
              "      --hover-bg-color: #434B5C;\n",
              "      --hover-fill-color: #FFFFFF;\n",
              "      --disabled-bg-color: #3B4455;\n",
              "      --disabled-fill-color: #666;\n",
              "  }\n",
              "\n",
              "  .colab-df-quickchart {\n",
              "    background-color: var(--bg-color);\n",
              "    border: none;\n",
              "    border-radius: 50%;\n",
              "    cursor: pointer;\n",
              "    display: none;\n",
              "    fill: var(--fill-color);\n",
              "    height: 32px;\n",
              "    padding: 0;\n",
              "    width: 32px;\n",
              "  }\n",
              "\n",
              "  .colab-df-quickchart:hover {\n",
              "    background-color: var(--hover-bg-color);\n",
              "    box-shadow: 0 1px 2px rgba(60, 64, 67, 0.3), 0 1px 3px 1px rgba(60, 64, 67, 0.15);\n",
              "    fill: var(--button-hover-fill-color);\n",
              "  }\n",
              "\n",
              "  .colab-df-quickchart-complete:disabled,\n",
              "  .colab-df-quickchart-complete:disabled:hover {\n",
              "    background-color: var(--disabled-bg-color);\n",
              "    fill: var(--disabled-fill-color);\n",
              "    box-shadow: none;\n",
              "  }\n",
              "\n",
              "  .colab-df-spinner {\n",
              "    border: 2px solid var(--fill-color);\n",
              "    border-color: transparent;\n",
              "    border-bottom-color: var(--fill-color);\n",
              "    animation:\n",
              "      spin 1s steps(1) infinite;\n",
              "  }\n",
              "\n",
              "  @keyframes spin {\n",
              "    0% {\n",
              "      border-color: transparent;\n",
              "      border-bottom-color: var(--fill-color);\n",
              "      border-left-color: var(--fill-color);\n",
              "    }\n",
              "    20% {\n",
              "      border-color: transparent;\n",
              "      border-left-color: var(--fill-color);\n",
              "      border-top-color: var(--fill-color);\n",
              "    }\n",
              "    30% {\n",
              "      border-color: transparent;\n",
              "      border-left-color: var(--fill-color);\n",
              "      border-top-color: var(--fill-color);\n",
              "      border-right-color: var(--fill-color);\n",
              "    }\n",
              "    40% {\n",
              "      border-color: transparent;\n",
              "      border-right-color: var(--fill-color);\n",
              "      border-top-color: var(--fill-color);\n",
              "    }\n",
              "    60% {\n",
              "      border-color: transparent;\n",
              "      border-right-color: var(--fill-color);\n",
              "    }\n",
              "    80% {\n",
              "      border-color: transparent;\n",
              "      border-right-color: var(--fill-color);\n",
              "      border-bottom-color: var(--fill-color);\n",
              "    }\n",
              "    90% {\n",
              "      border-color: transparent;\n",
              "      border-bottom-color: var(--fill-color);\n",
              "    }\n",
              "  }\n",
              "</style>\n",
              "\n",
              "  <script>\n",
              "    async function quickchart(key) {\n",
              "      const quickchartButtonEl =\n",
              "        document.querySelector('#' + key + ' button');\n",
              "      quickchartButtonEl.disabled = true;  // To prevent multiple clicks.\n",
              "      quickchartButtonEl.classList.add('colab-df-spinner');\n",
              "      try {\n",
              "        const charts = await google.colab.kernel.invokeFunction(\n",
              "            'suggestCharts', [key], {});\n",
              "      } catch (error) {\n",
              "        console.error('Error during call to suggestCharts:', error);\n",
              "      }\n",
              "      quickchartButtonEl.classList.remove('colab-df-spinner');\n",
              "      quickchartButtonEl.classList.add('colab-df-quickchart-complete');\n",
              "    }\n",
              "    (() => {\n",
              "      let quickchartButtonEl =\n",
              "        document.querySelector('#df-424d9f5f-a791-4661-b747-7150dce8dbce button');\n",
              "      quickchartButtonEl.style.display =\n",
              "        google.colab.kernel.accessAllowed ? 'block' : 'none';\n",
              "    })();\n",
              "  </script>\n",
              "</div>\n",
              "    </div>\n",
              "  </div>\n"
            ]
          },
          "metadata": {},
          "execution_count": 105
        }
      ]
    },
    {
      "cell_type": "code",
      "source": [
        "# Print the data tpes of each column\n",
        "mess_data.dtypes"
      ],
      "metadata": {
        "colab": {
          "base_uri": "https://localhost:8080/"
        },
        "id": "Pe4lHlo1TNBy",
        "outputId": "d094b021-be8d-44bc-a29c-76a007973537"
      },
      "execution_count": 106,
      "outputs": [
        {
          "output_type": "execute_result",
          "data": {
            "text/plain": [
              "Date               object\n",
              "Day                 int64\n",
              "Category            int64\n",
              "Time               object\n",
              "Holiday             int64\n",
              "Total Time         object\n",
              "time_in_seconds     int64\n",
              "dtype: object"
            ]
          },
          "metadata": {},
          "execution_count": 106
        }
      ]
    },
    {
      "cell_type": "code",
      "source": [
        "# Print the data shape\n",
        "mess_data.shape"
      ],
      "metadata": {
        "colab": {
          "base_uri": "https://localhost:8080/"
        },
        "id": "B6OH-ZWhTNOU",
        "outputId": "f01eff70-e844-4eba-8429-6808eab13fb3"
      },
      "execution_count": 107,
      "outputs": [
        {
          "output_type": "execute_result",
          "data": {
            "text/plain": [
              "(42, 7)"
            ]
          },
          "metadata": {},
          "execution_count": 107
        }
      ]
    },
    {
      "cell_type": "markdown",
      "source": [
        "We can see that we have 42 entries and each entries have 7 attributes"
      ],
      "metadata": {
        "id": "yTHZH8poRZb_"
      }
    },
    {
      "cell_type": "code",
      "source": [
        "# Grouping the data by Date and Category\n",
        "grouped_data = mess_data.groupby(['Date', 'Category'])['time_in_seconds'].sum().reset_index()\n",
        "\n",
        "# Creating a table with date category and time_in_seconds\n",
        "pivot_data = grouped_data.pivot(index='Date', columns='Category', values='time_in_seconds')\n",
        "\n",
        "# Creating a bar plot\n",
        "ax = pivot_data.plot(kind='bar', stacked=False, figsize=(12, 6))\n",
        "\n",
        "#labels for x and y axis\n",
        "plt.xlabel('Date')\n",
        "plt.ylabel('Total Time (seconds)')\n",
        "\n",
        "#label for the plot title\n",
        "plt.title('Total Time in Seconds vs. Date and Category')\n",
        "\n",
        "\n",
        "# Creating legends to make the graph readable\n",
        "plt.legend(title='Category', loc='upper right', bbox_to_anchor=(1.2, 1.0))\n",
        "\n",
        "# Plotting the graph\n",
        "plt.show()"
      ],
      "metadata": {
        "colab": {
          "base_uri": "https://localhost:8080/",
          "height": 0
        },
        "id": "6QsVeuWYTwrS",
        "outputId": "affad572-68c3-4748-f3ac-0003ccc3b46e"
      },
      "execution_count": 108,
      "outputs": [
        {
          "output_type": "display_data",
          "data": {
            "text/plain": [
              "<Figure size 1200x600 with 1 Axes>"
            ],
            "image/png": "[encoded data removed]"
          },
          "metadata": {}
        }
      ]
    },
    {
      "cell_type": "markdown",
      "source": [
        "**From the bar graph, we can see the time taken during breakfast, lunch and dinner on each day, from the graph we can see that everyday, time taken is almost same for each category**"
      ],
      "metadata": {
        "id": "yZsn6gxNVgzS"
      }
    },
    {
      "cell_type": "markdown",
      "source": [
        "\n",
        "---\n",
        "** Plotting graph for each category **"
      ],
      "metadata": {
        "id": "UCJjIPG1VZjQ"
      }
    },
    {
      "cell_type": "code",
      "source": [
        "# Selecting the data for breakfast category\n",
        "breakfast_data = mess_data[mess_data['Category']==1]\n",
        "\n",
        "# Initailsing the colums for x and y axis\n",
        "x_axix = breakfast_data['Day']\n",
        "y_axix = breakfast_data['time_in_seconds']\n",
        "\n",
        "# Initalize the figure size\n",
        "plt.figure(figsize=(12, 4))\n",
        "\n",
        "# Provide labels for x axis, y axis and colours of the plot\n",
        "plt.scatter(x_axix, y_axix, s=200, edgecolors = \"black\", c = \"red\")\n",
        "plt.xlabel('Day of week')\n",
        "plt.ylabel('Total Time (seconds)')\n",
        "plt.title('Breakfast Total Time in Seconds vs. Day of week')\n",
        "\n",
        "# Show the graph\n",
        "plt.show()"
      ],
      "metadata": {
        "colab": {
          "base_uri": "https://localhost:8080/",
          "height": 0
        },
        "id": "oJbW3yJnUFAa",
        "outputId": "2e7a18f7-64d8-460b-c17d-cc1cec886848"
      },
      "execution_count": 109,
      "outputs": [
        {
          "output_type": "display_data",
          "data": {
            "text/plain": [
              "<Figure size 1200x400 with 1 Axes>"
            ],
            "image/png": "[encoded data removed]"
          },
          "metadata": {}
        }
      ]
    },
    {
      "cell_type": "markdown",
      "source": [
        "We can see that for breakfast, we take almost same time, except for day 6 (saturday) where we can see a huge spike, which could be result of queue delay as people tends to wake up late on holidays"
      ],
      "metadata": {
        "id": "NABc4eGFTUMN"
      }
    },
    {
      "cell_type": "code",
      "source": [
        "# Select the data for lunch category\n",
        "lunch_data = mess_data[mess_data['Category']==2]\n",
        "\n",
        "# Initailse the colums for x and y axis\n",
        "x_axix = lunch_data['Day']\n",
        "y_axix = lunch_data['time_in_seconds']\n",
        "\n",
        "# Initalize the figure size\n",
        "plt.figure(figsize=(12, 4))\n",
        "\n",
        "# Provide labels for x, y axis and colours of the plot\n",
        "plt.scatter(x_axix, y_axix, s=200, edgecolors = \"black\", c = \"red\")\n",
        "plt.xlabel('Day of week')\n",
        "plt.ylabel('Total Time (seconds)')\n",
        "plt.title('Lunch Total Time in Seconds vs. Day of week')\n",
        "\n",
        "# Show the graph\n",
        "plt.show()"
      ],
      "metadata": {
        "colab": {
          "base_uri": "https://localhost:8080/",
          "height": 0
        },
        "id": "rKkEofqCC0bJ",
        "outputId": "7b6dacbe-e76e-4a23-d487-706ed7884625"
      },
      "execution_count": 110,
      "outputs": [
        {
          "output_type": "display_data",
          "data": {
            "text/plain": [
              "<Figure size 1200x400 with 1 Axes>"
            ],
            "image/png": "[encoded data removed]"
          },
          "metadata": {}
        }
      ]
    },
    {
      "cell_type": "markdown",
      "source": [
        "**we can see that in lunch also we are taking almost same time\n",
        "We can see that there are some spikes in day 1 and day 5 which could be result of queuing delay**\n"
      ],
      "metadata": {
        "id": "pHtpkzjzUiBH"
      }
    },
    {
      "cell_type": "code",
      "source": [
        "# Select the data for dinner category\n",
        "dinner_data = mess_data[mess_data['Category']==3]\n",
        "\n",
        "# Initailse the colums for x and y axis\n",
        "x_axix = dinner_data['Day']\n",
        "y_axix = dinner_data['time_in_seconds']\n",
        "\n",
        "# Initalize the figure size\n",
        "plt.figure(figsize=(12, 4))\n",
        "\n",
        "# Provide labels for x, y axis and colours of the plot\n",
        "plt.scatter(x_axix, y_axix, s=200, edgecolors = \"black\", c = \"red\")\n",
        "plt.xlabel('Day of week')\n",
        "plt.ylabel('Total Time (seconds)')\n",
        "plt.title('Dinner Total Time in Seconds vs. Day of week')\n",
        "\n",
        "# Show the graph\n",
        "plt.show()"
      ],
      "metadata": {
        "colab": {
          "base_uri": "https://localhost:8080/",
          "height": 0
        },
        "id": "VGvsfrGTC1RH",
        "outputId": "684e832d-30a3-4e6e-e4bf-4b8bf9045446"
      },
      "execution_count": 111,
      "outputs": [
        {
          "output_type": "display_data",
          "data": {
            "text/plain": [
              "<Figure size 1200x400 with 1 Axes>"
            ],
            "image/png": "[encoded data removed]"
          },
          "metadata": {}
        }
      ]
    },
    {
      "cell_type": "markdown",
      "source": [
        "We can see the same pattern in dinner"
      ],
      "metadata": {
        "id": "-NvAAGwEab7-"
      }
    },
    {
      "cell_type": "markdown",
      "source": [
        "# **Part b )**"
      ],
      "metadata": {
        "id": "RnNe1kb8XtQ4"
      }
    },
    {
      "cell_type": "code",
      "source": [
        "# Import required library for splitting dataset and numerical computations\n",
        "from sklearn.model_selection import train_test_split\n",
        "from sklearn.metrics import mean_absolute_error\n",
        "import numpy as np"
      ],
      "metadata": {
        "id": "JPLAGxZOUhoj"
      },
      "execution_count": 112,
      "outputs": []
    },
    {
      "cell_type": "code",
      "source": [
        "# Define the features and the target variable for creating model\n",
        "input_feature = mess_data[['Day', 'Category', 'Holiday']]\n",
        "output_value = mess_data['time_in_seconds']\n",
        "\n",
        "# Split the dataset into training and testing set (80-20)\n",
        "input_train, input_test, output_train, output_test = train_test_split(input_feature, output_value, test_size=0.2, random_state=47)"
      ],
      "metadata": {
        "id": "yGGXZ-RGX-sd"
      },
      "execution_count": 113,
      "outputs": []
    },
    {
      "cell_type": "code",
      "source": [
        "# Create decision matrix and add 1's in the first column of the matrix\n",
        "input_train_with_intercept = np.column_stack((np.ones(len(input_train)), input_train))\n",
        "\n",
        "# Initialize the parameters with random values\n",
        "np.random.seed(23)\n",
        "beta = np.random.rand(input_train_with_intercept.shape[1])\n",
        "\n",
        "# Setting the hyperparameters of the model\n",
        "learning_rate = 0.00006\n",
        "iterations = 1500"
      ],
      "metadata": {
        "id": "ZAfPr8LqITVn"
      },
      "execution_count": 114,
      "outputs": []
    },
    {
      "cell_type": "markdown",
      "source": [
        "Using poission regression, by considering the time taken for each category as count over period of 1 day."
      ],
      "metadata": {
        "id": "b2WWDRTOhN-a"
      }
    },
    {
      "cell_type": "code",
      "source": [
        "# Define the function for poission regression\n",
        "def poisson_regression_parameter(x, y, beta, learning_rate, iterations):\n",
        "    \"\"\"\n",
        "   This function helps to learns the optimum value of parameters using MLE estimation\n",
        "\n",
        "    Args:\n",
        "        x : Training dataset of features\n",
        "        y : training dataset of target values\n",
        "        beta : parameter vector\n",
        "        learning_rate : self explanable\n",
        "        num_iterations : self explanable\n",
        "\n",
        "    Returns:\n",
        "        beta: the learned parameters\n",
        "    \"\"\"\n",
        "\n",
        "    m = len(y)\n",
        "    # Iterating to find the optimum value of parameters\n",
        "    for i in range(iterations):\n",
        "        # Calculate predicted values using matrix multiplication\n",
        "        mu = np.exp(np.dot(x, beta))\n",
        "\n",
        "        # Calculate the gradient using log-likelihood method\n",
        "        gradient = np.dot(x.T, (y - mu))\n",
        "\n",
        "        # Update coefficients in bets vector using gradient descent.\n",
        "        # Here /m helps to normalize the gradient update by effectively\n",
        "        # scaling the step size based on size of dataset.\n",
        "        beta += (learning_rate / m) * gradient\n",
        "\n",
        "    return beta"
      ],
      "metadata": {
        "id": "JiC-COTaId9x"
      },
      "execution_count": 115,
      "outputs": []
    },
    {
      "cell_type": "code",
      "source": [
        "# Call thepoisson_regression_parameter function to learn parameters\n",
        "learned_coefficients = poisson_regression_parameter(input_train_with_intercept, output_train, beta, learning_rate, iterations)\n",
        "\n",
        "# Print the parameters learned from the model\n",
        "print(\"Learned Coefficients:\", learned_coefficients)"
      ],
      "metadata": {
        "colab": {
          "base_uri": "https://localhost:8080/"
        },
        "id": "hj0SoYE_Ii3m",
        "outputId": "73a92c07-5ae2-4655-854f-0b6e4925f3aa"
      },
      "execution_count": 116,
      "outputs": [
        {
          "output_type": "stream",
          "name": "stdout",
          "text": [
            "Learned Coefficients: [ 6.99069684e+00  6.77340875e-03  2.53899825e-02 -6.16919488e-04]\n"
          ]
        }
      ]
    },
    {
      "cell_type": "markdown",
      "source": [
        "The learned coefficient have four values out of which the first one is constant and remaning three are parameters for the three Features.\n",
        "\n",
        "*   Learned Coefficients[0] = constant = 6.99069684e+00\n",
        "*   Learned Coefficients[1] = parameter for Day = 6.77340875e-03\n",
        "*   Learned Coefficients[2] = parameter for Category = 2.53899825e-02\n",
        "*   Learned Coefficients[3] = parameter for Holiday = -6.16919488e-04\n",
        "\n",
        "Here, the value parameter for Category is maximum in parameters of the three features. Hence, ***Category*** is important for\n",
        "prediction.\n",
        "\n",
        "\n"
      ],
      "metadata": {
        "id": "aK-rMcqYv8CY"
      }
    },
    {
      "cell_type": "markdown",
      "source": [
        "# **Part c )**"
      ],
      "metadata": {
        "id": "Qs4dxoyTX-Lj"
      }
    },
    {
      "cell_type": "code",
      "source": [
        "# Create decision matrix by adding 1's in the first column of the matrix\n",
        "input_test_with_intercept = np.column_stack((np.ones(len(input_test)), input_test))\n",
        "\n",
        "# Function to predict using the Poisson regression model\n",
        "def predict_poisson(X, parameters):\n",
        "    \"\"\"\n",
        "    This function predict the values using learned parameters\n",
        "\n",
        "    Args:\n",
        "        x : Testing dataset of features\n",
        "        coefficients : training dataset of target values\n",
        "\n",
        "    Returns:\n",
        "      val: the predicted values for given test dataset\n",
        "    \"\"\"\n",
        "    # Calculate predicted values\n",
        "    val = np.exp(np.dot(X, parameters))\n",
        "    return val\n",
        "\n",
        "# Make predictions on the train and test dataset\n",
        "output_pred_poi_test = predict_poisson(input_test_with_intercept, learned_coefficients)"
      ],
      "metadata": {
        "id": "3qg2VK2eIo9d"
      },
      "execution_count": 117,
      "outputs": []
    },
    {
      "cell_type": "code",
      "source": [
        "# Import required library for linear regression\n",
        "from sklearn.linear_model import LinearRegression\n",
        "\n",
        "# Create a Linear Regression model\n",
        "model = LinearRegression()\n",
        "\n",
        "# Train the model\n",
        "model.fit(input_train, output_train)"
      ],
      "metadata": {
        "colab": {
          "base_uri": "https://localhost:8080/",
          "height": 75
        },
        "id": "BD4qBontKJzE",
        "outputId": "ec3ebf92-ea2f-418c-8cce-f3bc5b21cc8e"
      },
      "execution_count": 118,
      "outputs": [
        {
          "output_type": "execute_result",
          "data": {
            "text/plain": [
              "LinearRegression()"
            ],
            "text/html": [
              "<style>#sk-container-id-8 {color: black;background-color: white;}#sk-container-id-8 pre{padding: 0;}#sk-container-id-8 div.sk-toggleable {background-color: white;}#sk-container-id-8 label.sk-toggleable__label {cursor: pointer;display: block;width: 100%;margin-bottom: 0;padding: 0.3em;box-sizing: border-box;text-align: center;}#sk-container-id-8 label.sk-toggleable__label-arrow:before {content: \"▸\";float: left;margin-right: 0.25em;color: #696969;}#sk-container-id-8 label.sk-toggleable__label-arrow:hover:before {color: black;}#sk-container-id-8 div.sk-estimator:hover label.sk-toggleable__label-arrow:before {color: black;}#sk-container-id-8 div.sk-toggleable__content {max-height: 0;max-width: 0;overflow: hidden;text-align: left;background-color: #f0f8ff;}#sk-container-id-8 div.sk-toggleable__content pre {margin: 0.2em;color: black;border-radius: 0.25em;background-color: #f0f8ff;}#sk-container-id-8 input.sk-toggleable__control:checked~div.sk-toggleable__content {max-height: 200px;max-width: 100%;overflow: auto;}#sk-container-id-8 input.sk-toggleable__control:checked~label.sk-toggleable__label-arrow:before {content: \"▾\";}#sk-container-id-8 div.sk-estimator input.sk-toggleable__control:checked~label.sk-toggleable__label {background-color: #d4ebff;}#sk-container-id-8 div.sk-label input.sk-toggleable__control:checked~label.sk-toggleable__label {background-color: #d4ebff;}#sk-container-id-8 input.sk-hidden--visually {border: 0;clip: rect(1px 1px 1px 1px);clip: rect(1px, 1px, 1px, 1px);height: 1px;margin: -1px;overflow: hidden;padding: 0;position: absolute;width: 1px;}#sk-container-id-8 div.sk-estimator {font-family: monospace;background-color: #f0f8ff;border: 1px dotted black;border-radius: 0.25em;box-sizing: border-box;margin-bottom: 0.5em;}#sk-container-id-8 div.sk-estimator:hover {background-color: #d4ebff;}#sk-container-id-8 div.sk-parallel-item::after {content: \"\";width: 100%;border-bottom: 1px solid gray;flex-grow: 1;}#sk-container-id-8 div.sk-label:hover label.sk-toggleable__label {background-color: #d4ebff;}#sk-container-id-8 div.sk-serial::before {content: \"\";position: absolute;border-left: 1px solid gray;box-sizing: border-box;top: 0;bottom: 0;left: 50%;z-index: 0;}#sk-container-id-8 div.sk-serial {display: flex;flex-direction: column;align-items: center;background-color: white;padding-right: 0.2em;padding-left: 0.2em;position: relative;}#sk-container-id-8 div.sk-item {position: relative;z-index: 1;}#sk-container-id-8 div.sk-parallel {display: flex;align-items: stretch;justify-content: center;background-color: white;position: relative;}#sk-container-id-8 div.sk-item::before, #sk-container-id-8 div.sk-parallel-item::before {content: \"\";position: absolute;border-left: 1px solid gray;box-sizing: border-box;top: 0;bottom: 0;left: 50%;z-index: -1;}#sk-container-id-8 div.sk-parallel-item {display: flex;flex-direction: column;z-index: 1;position: relative;background-color: white;}#sk-container-id-8 div.sk-parallel-item:first-child::after {align-self: flex-end;width: 50%;}#sk-container-id-8 div.sk-parallel-item:last-child::after {align-self: flex-start;width: 50%;}#sk-container-id-8 div.sk-parallel-item:only-child::after {width: 0;}#sk-container-id-8 div.sk-dashed-wrapped {border: 1px dashed gray;margin: 0 0.4em 0.5em 0.4em;box-sizing: border-box;padding-bottom: 0.4em;background-color: white;}#sk-container-id-8 div.sk-label label {font-family: monospace;font-weight: bold;display: inline-block;line-height: 1.2em;}#sk-container-id-8 div.sk-label-container {text-align: center;}#sk-container-id-8 div.sk-container {/* jupyter's `normalize.less` sets `[hidden] { display: none; }` but bootstrap.min.css set `[hidden] { display: none !important; }` so we also need the `!important` here to be able to override the default hidden behavior on the sphinx rendered scikit-learn.org. See: https://github.com/scikit-learn/scikit-learn/issues/21755 */display: inline-block !important;position: relative;}#sk-container-id-8 div.sk-text-repr-fallback {display: none;}</style><div id=\"sk-container-id-8\" class=\"sk-top-container\"><div class=\"sk-text-repr-fallback\"><pre>LinearRegression()</pre><b>In a Jupyter environment, please rerun this cell to show the HTML representation or trust the notebook. <br />On GitHub, the HTML representation is unable to render, please try loading this page with nbviewer.org.</b></div><div class=\"sk-container\" hidden><div class=\"sk-item\"><div class=\"sk-estimator sk-toggleable\"><input class=\"sk-toggleable__control sk-hidden--visually\" id=\"sk-estimator-id-8\" type=\"checkbox\" checked><label for=\"sk-estimator-id-8\" class=\"sk-toggleable__label sk-toggleable__label-arrow\">LinearRegression</label><div class=\"sk-toggleable__content\"><pre>LinearRegression()</pre></div></div></div></div></div>"
            ]
          },
          "metadata": {},
          "execution_count": 118
        }
      ]
    },
    {
      "cell_type": "code",
      "source": [
        "# Make predictions on the train and test dataset\n",
        "output_pred_linear_test = model.predict(input_test)"
      ],
      "metadata": {
        "id": "NrbJH0jsYEOC"
      },
      "execution_count": 119,
      "outputs": []
    },
    {
      "cell_type": "code",
      "source": [
        "# Evaluate the Poisson Regression Model\n",
        "mae_poisson_test = mean_absolute_error(output_test, output_pred_poi_test)\n",
        "\n",
        "# Evaluate the Linear Regression Model\n",
        "mae_linear_test = mean_absolute_error(output_test, output_pred_linear_test)\n",
        "\n",
        "# Print the details of Poisson Regression Metrics\n",
        "print(\"Poisson Regression Metrics:\")\n",
        "print(f\"MAE train data: {mae_poisson_test} seconds\")\n",
        "\n",
        "# Print the details of Poisson Regression Metrics\n",
        "print(\"\\nLinear Regression Metrics:\")\n",
        "print(f\"MAE test data: {mae_linear_test} seconds\")"
      ],
      "metadata": {
        "colab": {
          "base_uri": "https://localhost:8080/"
        },
        "id": "i0XTYsNAEAA3",
        "outputId": "aabc25fc-025b-4886-c083-e92e06be0c7a"
      },
      "execution_count": 120,
      "outputs": [
        {
          "output_type": "stream",
          "name": "stdout",
          "text": [
            "Poisson Regression Metrics:\n",
            "MAE train data: 72.52640467490252 seconds\n",
            "\n",
            "Linear Regression Metrics:\n",
            "MAE test data: 73.61158226726073 seconds\n"
          ]
        }
      ]
    },
    {
      "cell_type": "markdown",
      "source": [
        "\n",
        "Here, we can oberve that the value of **mean_absolute_error** for the model created is almost same to the linear regression model which is aroung **1 mins**.\n"
      ],
      "metadata": {
        "id": "8pqJ2hGL8HHC"
      }
    }
  ]
}